{
 "cells": [
  {
   "cell_type": "code",
   "execution_count": 37,
   "metadata": {},
   "outputs": [],
   "source": [
    "import numpy as np\n",
    "import pandas as pd\n",
    "\n",
    "from googlesearch import search \n",
    "from tqdm import tqdm_notebook as tqdm\n",
    "\n",
    "import random\n",
    "from bs4 import BeautifulSoup \n",
    "from fuzzywuzzy import fuzz\n",
    "import warnings\n",
    "warnings.filterwarnings('ignore')"
   ]
  },
  {
   "cell_type": "code",
   "execution_count": 38,
   "metadata": {},
   "outputs": [],
   "source": [
    "companies = pd.read_csv('./MarketStatus.csv', skiprows=1)"
   ]
  },
  {
   "cell_type": "code",
   "execution_count": 39,
   "metadata": {},
   "outputs": [],
   "source": [
    "with open('jobs.json', encoding='UTF-8-SIG') as file:\n",
    "    data = json.load(file)"
   ]
  },
  {
   "cell_type": "code",
   "execution_count": 40,
   "metadata": {},
   "outputs": [],
   "source": [
    "comp_list = pd.DataFrame(\n",
    "    columns=['CompanyName', 'Status', 'Notes', 'JobLink', 'LastUpdated'])"
   ]
  },
  {
   "cell_type": "code",
   "execution_count": 41,
   "metadata": {},
   "outputs": [],
   "source": [
    "def get_careers_link(company):\n",
    "    ''' The get careers link gets the name of the company '''\n",
    "    #     for company in tqdm(companies['Employer']):\n",
    "    wait_time = 3\n",
    "    search_string = company + ' + careers'\n",
    "    this_list = list(search(query_string, tld=\"com\",\n",
    "                            num=3, stop=3, pause=wait_time))\n",
    "\n",
    "    # Provided a code option for taking the top three career links from search\n",
    "#         companies.loc[companies['Employer'] ==\n",
    "#                       company, 'Careers Link 1'] = this_list[0]\n",
    "#         companies.loc[companies['Employer'] ==\n",
    "#                       company, 'Careers Link 2'] = this_list[1]\n",
    "#         companies.loc[companies['Employer'] ==\n",
    "#                       company, 'Careers Link 3'] = this_list[2]\n",
    "    return this_list[0]"
   ]
  },
  {
   "cell_type": "code",
   "execution_count": 42,
   "metadata": {},
   "outputs": [],
   "source": [
    "def get_status(hiring_stat):\n",
    "    this_string = None\n",
    "    if hiring_stat is None:\n",
    "        return this_string\n",
    "    \n",
    "    if len(hiring_stat) > 1:\n",
    "        j = 1\n",
    "\n",
    "        for i in hiring_stat:\n",
    "            if j == 1:\n",
    "                this_string = data['data']['table']['columns'][1]['typeOptions']['choices'][i]['name']\n",
    "                j = j + 1\n",
    "            else:\n",
    "                this_string = this_string + ', ' + \\\n",
    "                        data['data']['table']['columns'][1]['typeOptions']['choices'][i]['name']\n",
    "    else:\n",
    "        try:\n",
    "            this_string = data['data']['table']['columns'][1]['typeOptions']['choices'][hiring_stat[0]]['name']\n",
    "        except:\n",
    "            this_string = None\n",
    "\n",
    "    return this_string"
   ]
  },
  {
   "cell_type": "code",
   "execution_count": 43,
   "metadata": {},
   "outputs": [],
   "source": [
    "def get_notes(hiring_notes):\n",
    "\n",
    "    notes = ''\n",
    "    try:\n",
    "        notes = hiring_notes['documentValue'][0]['insert']\n",
    "    except:\n",
    "        notes = ''\n",
    "    return notes"
   ]
  },
  {
   "cell_type": "code",
   "execution_count": 44,
   "metadata": {},
   "outputs": [
    {
     "data": {
      "application/vnd.jupyter.widget-view+json": {
       "model_id": "986d2e2c9ee7460087398bb4a2d09c02",
       "version_major": 2,
       "version_minor": 0
      },
      "text/plain": [
       "HBox(children=(FloatProgress(value=0.0, max=6951.0), HTML(value='')))"
      ]
     },
     "metadata": {},
     "output_type": "display_data"
    },
    {
     "name": "stdout",
     "output_type": "stream",
     "text": [
      "\n"
     ]
    }
   ],
   "source": [
    "for i in tqdm(data['data']['table']['rows']):\n",
    "    \n",
    "    try:\n",
    "        notes = i['cellValuesByColumnId']['fldb33RYp9aHrTgZU']\n",
    "    except:\n",
    "        notes = None\n",
    "        \n",
    "    comp_name = i['cellValuesByColumnId']['fldBWaqJq0Z1LZjNH']\n",
    "\n",
    "    try:\n",
    "        status = i['cellValuesByColumnId']['fld29mFhwLNN8tJ1i']\n",
    "    except:\n",
    "        status = None\n",
    "\n",
    "    try:\n",
    "        link = i['cellValuesByColumnId']['fldzqZ8TJUZmyygAL']\n",
    "    except:\n",
    "        link = None\n",
    "\n",
    "    try:\n",
    "        lastupdate = i['cellValuesByColumnId']['fldOkP0u7XmVKkChC']\n",
    "    except:\n",
    "        lastupdate = None\n",
    "\n",
    "    dictio = [(comp_name, status, notes, link, lastupdate)]\n",
    "\n",
    "    temp_df = pd.DataFrame.from_records(\n",
    "        dictio, columns=['CompanyName', 'Status', 'Notes', 'JobLink', 'LastUpdated'])\n",
    "    comp_list = pd.concat([comp_list, temp_df])"
   ]
  },
  {
   "cell_type": "code",
   "execution_count": 45,
   "metadata": {},
   "outputs": [],
   "source": [
    "comp_list['Status_Decoded'] = comp_list['Status'].apply(\n",
    "    lambda x: get_status(x))\n",
    "comp_list = comp_list.reset_index(drop=True)\n",
    "comp_list['Notes_Decoded'] = comp_list['Notes'].apply(lambda x: get_notes(x))\n",
    "comp_list = comp_list.dropna(\n",
    "    axis='rows', subset=['Status_Decoded']).reset_index(drop=True)\n",
    "comp_list['CompanyName_lower'] = comp_list['CompanyName'].str.lower()"
   ]
  },
  {
   "cell_type": "code",
   "execution_count": 46,
   "metadata": {},
   "outputs": [],
   "source": [
    "# comp_list.head()"
   ]
  },
  {
   "cell_type": "code",
   "execution_count": 47,
   "metadata": {},
   "outputs": [],
   "source": [
    "# companies.head()"
   ]
  },
  {
   "cell_type": "code",
   "execution_count": 48,
   "metadata": {},
   "outputs": [],
   "source": [
    "# new column for lowercase employer name to be used in matching\n",
    "companies['Employer_lower'] = companies['Employer'].str.lower()\n",
    "comp_list['Matched'] = ''"
   ]
  },
  {
   "cell_type": "code",
   "execution_count": 49,
   "metadata": {
    "scrolled": true
   },
   "outputs": [
    {
     "data": {
      "application/vnd.jupyter.widget-view+json": {
       "model_id": "c43c918da1914acc9845596296b92914",
       "version_major": 2,
       "version_minor": 0
      },
      "text/plain": [
       "HBox(children=(FloatProgress(value=0.0, max=6948.0), HTML(value='')))"
      ]
     },
     "metadata": {},
     "output_type": "display_data"
    },
    {
     "name": "stdout",
     "output_type": "stream",
     "text": [
      "Error on setting Int64Index([215], dtype='int64')\n",
      "Error on setting Int64Index([215], dtype='int64')\n",
      "Error on setting Int64Index([237], dtype='int64')\n",
      "Error on setting Int64Index([237], dtype='int64')\n",
      "Error on matching:  belong (belonghome\n",
      "Error on setting Int64Index([853], dtype='int64')\n",
      "Error on setting Int64Index([853], dtype='int64')\n",
      "Error on setting Int64Index([885], dtype='int64')\n",
      "Error on setting Int64Index([885], dtype='int64')\n",
      "Error on setting Int64Index([1286], dtype='int64')\n",
      "Error on setting Int64Index([1286], dtype='int64')\n",
      "Error on matching:  cwt ((carlsonwagonlit)\n",
      "Error on setting Int64Index([2028], dtype='int64')\n",
      "Error on setting Int64Index([2028], dtype='int64')\n",
      "Error on setting Int64Index([2580], dtype='int64')\n",
      "Error on setting Int64Index([2580], dtype='int64')\n",
      "Error on setting Int64Index([2646], dtype='int64')\n",
      "Error on setting Int64Index([2646], dtype='int64')\n",
      "Error on setting Int64Index([3002], dtype='int64')\n",
      "Error on setting Int64Index([3002], dtype='int64')\n",
      "Error on setting Int64Index([3069], dtype='int64')\n",
      "Error on setting Int64Index([3069], dtype='int64')\n",
      "Error on setting Int64Index([3345], dtype='int64')\n",
      "Error on setting Int64Index([3345], dtype='int64')\n",
      "Error on setting Int64Index([3519], dtype='int64')\n",
      "Error on setting Int64Index([3519], dtype='int64')\n",
      "Error on setting Int64Index([4235], dtype='int64')\n",
      "Error on setting Int64Index([4235], dtype='int64')\n",
      "Error on setting Int64Index([4385], dtype='int64')\n",
      "Error on setting Int64Index([4385], dtype='int64')\n",
      "Error on setting Int64Index([4847], dtype='int64')\n",
      "Error on setting Int64Index([4847], dtype='int64')\n",
      "Error on setting Int64Index([5624], dtype='int64')\n",
      "Error on setting Int64Index([5624], dtype='int64')\n",
      "Error on matching:  tapestry (coach and kate spade and sw))\n",
      "Error on matching:  tbwa\\chiat\\day\n",
      "Error on setting Int64Index([6952], dtype='int64')\n",
      "Error on setting Int64Index([6952], dtype='int64')\n",
      "\n"
     ]
    }
   ],
   "source": [
    "# company list matching with companies master file\n",
    "# appending information on status and notes\n",
    "for i in tqdm(comp_list['CompanyName_lower']):\n",
    "    try:\n",
    "        test_index = companies.loc[companies['Employer_lower'].str.contains(\n",
    "            i) == True].index\n",
    "    except:\n",
    "        print('Error on matching: ', i)\n",
    "        test_index = []\n",
    "\n",
    "    if len(test_index) == 1:\n",
    "        try:\n",
    "            companies.loc[companies['Employer_lower'].str.contains(\n",
    "                i) == True, 'Status'] = comp_list.loc[comp_list['CompanyName_lower'] == i, 'Status_Decoded'].values\n",
    "            companies.loc[companies['Employer_lower'].str.contains(\n",
    "                i) == True, 'Notes'] = comp_list.loc[comp_list['CompanyName_lower'] == i, 'Notes_Decoded'].values\n",
    "        except:\n",
    "            print('Error on setting', test_index)\n",
    "    else:\n",
    "        comp_list.loc[comp_list['CompanyName_lower'] == i, 'Matched'] = False"
   ]
  },
  {
   "cell_type": "code",
   "execution_count": 50,
   "metadata": {},
   "outputs": [],
   "source": [
    "# companies.head()\n",
    "# comp_list.head()"
   ]
  },
  {
   "cell_type": "code",
   "execution_count": 51,
   "metadata": {},
   "outputs": [],
   "source": [
    "# create new df for unmatched companies\n",
    "unmatched_comps = comp_list.loc[comp_list['Matched'] == False]"
   ]
  },
  {
   "cell_type": "code",
   "execution_count": 52,
   "metadata": {},
   "outputs": [],
   "source": [
    "# extract only important columns and rename according to companies masterfile column\n",
    "temp_unmatched = pd.DataFrame({'Employer': unmatched_comps['CompanyName'],\n",
    "                               'Job Opportunities Link': unmatched_comps['JobLink'],\n",
    "                               'Status': unmatched_comps['Status_Decoded'], \n",
    "                               'Notes': unmatched_comps['Notes_Decoded']})"
   ]
  },
  {
   "cell_type": "code",
   "execution_count": 53,
   "metadata": {},
   "outputs": [],
   "source": [
    "# append temp unmatched df to companies\n",
    "companies = companies.append(temp_unmatched)"
   ]
  },
  {
   "cell_type": "code",
   "execution_count": 54,
   "metadata": {},
   "outputs": [],
   "source": [
    "# import from coda website source and append to companies masterfile\n",
    "coda_df = pd.read_csv('./coda-resource.csv',\n",
    "                      encoding=\"ISO-8859-1\",\n",
    "                      names=['Employer',\n",
    "                             'Job Opportunities Link',\n",
    "                             'Location',\n",
    "                             'Notes'])\n",
    "coda_df['Status'] = 'Hiring'\n",
    "companies = companies.append(coda_df)"
   ]
  },
  {
   "cell_type": "code",
   "execution_count": 55,
   "metadata": {},
   "outputs": [],
   "source": [
    "# import from startup spreadsheet resource\n",
    "startup_df = pd.read_csv('./startups.csv', skiprows=7)\n",
    "startup_df = startup_df[['Company Name', \n",
    "                         'HQ Location',\n",
    "                         'Link to Job Postings', \n",
    "                         'Where will roles be located? (post COVID-19)']]\n",
    "startup_df = startup_df.rename(columns={'Company Name': 'Employer', \n",
    "                           'HQ Location': 'HQ State', \n",
    "                           'Link to Job Postings': 'Job Opportunities Link', \n",
    "                           'Where will roles be located? (post COVID-19)': 'Location'})\n",
    "startup_df['Status'] = 'Hiring'\n",
    "companies = companies.append(startup_df)"
   ]
  },
  {
   "cell_type": "code",
   "execution_count": 56,
   "metadata": {},
   "outputs": [],
   "source": [
    "# drop duplicates on companies and sort in alphabetical order\n",
    "companies = companies.drop_duplicates(subset=['Employer'], keep='first').reset_index(drop=True)\n",
    "companies = companies.sort_values('Employer', ascending=True).reset_index(drop=True)\n",
    "companies['Employer'] = companies['Employer'].str.upper()"
   ]
  },
  {
   "cell_type": "code",
   "execution_count": 57,
   "metadata": {},
   "outputs": [
    {
     "data": {
      "application/vnd.jupyter.widget-view+json": {
       "model_id": "1c6c48e6bf1b47a1bce7341ef247684a",
       "version_major": 2,
       "version_minor": 0
      },
      "text/plain": [
       "HBox(children=(FloatProgress(value=0.0, max=8668.0), HTML(value='')))"
      ]
     },
     "metadata": {},
     "output_type": "display_data"
    },
    {
     "name": "stdout",
     "output_type": "stream",
     "text": [
      "\n"
     ]
    }
   ],
   "source": [
    "# fuzzy matching of company names for those not captured by drop duplicates\n",
    "for i in tqdm(range(companies.shape[0])):\n",
    "    ratio_before = 0\n",
    "    ratio_after = 0\n",
    "    if i == 0:\n",
    "        ratio_after = fuzz.ratio(companies['Employer'][i], companies['Employer'][i+1])\n",
    "    elif i == (companies.shape[0]-1):\n",
    "        ratio_before = fuzz.ratio(companies['Employer'][i], companies['Employer'][i-1])\n",
    "    else:\n",
    "        ratio_after = fuzz.ratio(companies['Employer'][i], companies['Employer'][i+1])\n",
    "        ratio_before = fuzz.ratio(companies['Employer'][i], companies['Employer'][i-1])\n",
    "    companies.loc[i, 'Ratio After'] = ratio_after\n",
    "    companies.loc[i, 'Ratio Before'] = ratio_before"
   ]
  },
  {
   "cell_type": "code",
   "execution_count": 58,
   "metadata": {},
   "outputs": [],
   "source": [
    "# set thresholds for fuzzy matching\n",
    "companies.loc[companies['Ratio After'] >= 80, 'Delete'] = 'Review'\n",
    "companies.loc[companies['Ratio Before'] >= 80, 'Delete'] = 'Review'\n",
    "companies.loc[companies['Ratio After'] >= 90, 'Delete'] = True"
   ]
  },
  {
   "cell_type": "code",
   "execution_count": null,
   "metadata": {},
   "outputs": [
    {
     "data": {
      "application/vnd.jupyter.widget-view+json": {
       "model_id": "60658c18e2274f8680a0579c39a3ca14",
       "version_major": 2,
       "version_minor": 0
      },
      "text/plain": [
       "HBox(children=(FloatProgress(value=0.0, max=1382.0), HTML(value='')))"
      ]
     },
     "metadata": {},
     "output_type": "display_data"
    }
   ],
   "source": [
    "# get companies without job links\n",
    "no_link_comps = companies.loc[companies['Job Opportunities Link'].isnull()]['Employer']\n",
    "# perform a google search for the job link\n",
    "for company in tqdm(no_link_comps):\n",
    "    wait_time = random.randint(1,4)\n",
    "    search_string = company + ' + careers'\n",
    "#     print(company)\n",
    "    this_list = list(search(search_string, tld=\"com\", num=1, stop=1, pause=wait_time))\n",
    "    \n",
    "    companies.loc[companies['Employer'] == company, 'Job Opportunities Link'] = this_list[0]"
   ]
  },
  {
   "cell_type": "code",
   "execution_count": null,
   "metadata": {},
   "outputs": [],
   "source": [
    "companies.to_csv('./LatestJobMarket.csv', index = False)"
   ]
  },
  {
   "cell_type": "markdown",
   "metadata": {},
   "source": [
    "## Scratch Area"
   ]
  },
  {
   "cell_type": "code",
   "execution_count": 25,
   "metadata": {},
   "outputs": [
    {
     "data": {
      "text/html": [
       "<div>\n",
       "<style scoped>\n",
       "    .dataframe tbody tr th:only-of-type {\n",
       "        vertical-align: middle;\n",
       "    }\n",
       "\n",
       "    .dataframe tbody tr th {\n",
       "        vertical-align: top;\n",
       "    }\n",
       "\n",
       "    .dataframe thead th {\n",
       "        text-align: right;\n",
       "    }\n",
       "</style>\n",
       "<table border=\"1\" class=\"dataframe\">\n",
       "  <thead>\n",
       "    <tr style=\"text-align: right;\">\n",
       "      <th></th>\n",
       "      <th>Employer</th>\n",
       "      <th>HQ State</th>\n",
       "      <th>Location</th>\n",
       "      <th>ZIP</th>\n",
       "      <th>Post on LinkedIn ?</th>\n",
       "      <th>Job Opportunities Link</th>\n",
       "      <th>Status</th>\n",
       "      <th>Notes / Open Roles</th>\n",
       "      <th>Employer_lower</th>\n",
       "      <th>Notes</th>\n",
       "    </tr>\n",
       "  </thead>\n",
       "  <tbody>\n",
       "    <tr>\n",
       "      <th>0</th>\n",
       "      <td>100 THIEVES</td>\n",
       "      <td>NaN</td>\n",
       "      <td>NaN</td>\n",
       "      <td>NaN</td>\n",
       "      <td>NaN</td>\n",
       "      <td>https://100thieves.com/pages/careers</td>\n",
       "      <td>Hiring</td>\n",
       "      <td>NaN</td>\n",
       "      <td>100 thieves</td>\n",
       "      <td>\\n</td>\n",
       "    </tr>\n",
       "    <tr>\n",
       "      <th>1</th>\n",
       "      <td>1010DATA</td>\n",
       "      <td>NaN</td>\n",
       "      <td>NaN</td>\n",
       "      <td>NaN</td>\n",
       "      <td>NaN</td>\n",
       "      <td>https://www.1010data.com/company/careers/open-...</td>\n",
       "      <td>Hiring</td>\n",
       "      <td>All roles on website are opened for hiring</td>\n",
       "      <td>1010data</td>\n",
       "      <td>All roles on website are opened for hiring\\n</td>\n",
       "    </tr>\n",
       "    <tr>\n",
       "      <th>2</th>\n",
       "      <td>10X GENOMICS</td>\n",
       "      <td>NaN</td>\n",
       "      <td>NaN</td>\n",
       "      <td>NaN</td>\n",
       "      <td>NaN</td>\n",
       "      <td>https://www.10xgenomics.com/careers/</td>\n",
       "      <td>Hiring, Hiring freeze</td>\n",
       "      <td>Actively hiring across the organisation</td>\n",
       "      <td>10x genomics</td>\n",
       "      <td>Actively hiring across the organisation\\n</td>\n",
       "    </tr>\n",
       "    <tr>\n",
       "      <th>3</th>\n",
       "      <td>11-JUL</td>\n",
       "      <td>NaN</td>\n",
       "      <td>NaN</td>\n",
       "      <td>NaN</td>\n",
       "      <td>NaN</td>\n",
       "      <td>https://sites.7-eleven.com/careers/home</td>\n",
       "      <td>Hiring</td>\n",
       "      <td>NaN</td>\n",
       "      <td>11-jul</td>\n",
       "      <td>NaN</td>\n",
       "    </tr>\n",
       "    <tr>\n",
       "      <th>4</th>\n",
       "      <td>12</td>\n",
       "      <td>NaN</td>\n",
       "      <td>NaN</td>\n",
       "      <td>NaN</td>\n",
       "      <td>NaN</td>\n",
       "      <td>https://www.careerplanner.com/ListOfCareers.cfm</td>\n",
       "      <td>Hiring</td>\n",
       "      <td>NaN</td>\n",
       "      <td>12</td>\n",
       "      <td>\\n</td>\n",
       "    </tr>\n",
       "  </tbody>\n",
       "</table>\n",
       "</div>"
      ],
      "text/plain": [
       "       Employer HQ State Location  ZIP  Post on LinkedIn ?  \\\n",
       "0   100 THIEVES      NaN      NaN  NaN                 NaN   \n",
       "1      1010DATA      NaN      NaN  NaN                 NaN   \n",
       "2  10X GENOMICS      NaN      NaN  NaN                 NaN   \n",
       "3        11-JUL      NaN      NaN  NaN                 NaN   \n",
       "4            12      NaN      NaN  NaN                 NaN   \n",
       "\n",
       "                              Job Opportunities Link                 Status  \\\n",
       "0               https://100thieves.com/pages/careers                 Hiring   \n",
       "1  https://www.1010data.com/company/careers/open-...                 Hiring   \n",
       "2               https://www.10xgenomics.com/careers/  Hiring, Hiring freeze   \n",
       "3            https://sites.7-eleven.com/careers/home                 Hiring   \n",
       "4    https://www.careerplanner.com/ListOfCareers.cfm                 Hiring   \n",
       "\n",
       "                           Notes / Open Roles Employer_lower  \\\n",
       "0                                         NaN    100 thieves   \n",
       "1  All roles on website are opened for hiring       1010data   \n",
       "2     Actively hiring across the organisation   10x genomics   \n",
       "3                                         NaN         11-jul   \n",
       "4                                         NaN             12   \n",
       "\n",
       "                                          Notes  \n",
       "0                                            \\n  \n",
       "1  All roles on website are opened for hiring\\n  \n",
       "2     Actively hiring across the organisation\\n  \n",
       "3                                           NaN  \n",
       "4                                            \\n  "
      ]
     },
     "execution_count": 25,
     "metadata": {},
     "output_type": "execute_result"
    }
   ],
   "source": [
    "companies.head()"
   ]
  },
  {
   "cell_type": "code",
   "execution_count": 24,
   "metadata": {},
   "outputs": [
    {
     "data": {
      "text/html": [
       "<div>\n",
       "<style scoped>\n",
       "    .dataframe tbody tr th:only-of-type {\n",
       "        vertical-align: middle;\n",
       "    }\n",
       "\n",
       "    .dataframe tbody tr th {\n",
       "        vertical-align: top;\n",
       "    }\n",
       "\n",
       "    .dataframe thead th {\n",
       "        text-align: right;\n",
       "    }\n",
       "</style>\n",
       "<table border=\"1\" class=\"dataframe\">\n",
       "  <thead>\n",
       "    <tr style=\"text-align: right;\">\n",
       "      <th></th>\n",
       "      <th>Company Name</th>\n",
       "      <th>HQ Location</th>\n",
       "      <th>Link to Job Postings</th>\n",
       "      <th>Where will roles be located? (post COVID-19)</th>\n",
       "    </tr>\n",
       "  </thead>\n",
       "  <tbody>\n",
       "    <tr>\n",
       "      <th>0</th>\n",
       "      <td>TrueAccord</td>\n",
       "      <td>US/California</td>\n",
       "      <td>https://www.trueaccord.com/about-us/careers/</td>\n",
       "      <td>Remote (post COVID-19), At HQ (as listed above...</td>\n",
       "    </tr>\n",
       "    <tr>\n",
       "      <th>1</th>\n",
       "      <td>PlayVS</td>\n",
       "      <td>US/California</td>\n",
       "      <td>https://www.playvs.com/careers</td>\n",
       "      <td>At HQ (as listed above)</td>\n",
       "    </tr>\n",
       "    <tr>\n",
       "      <th>2</th>\n",
       "      <td>Juvo</td>\n",
       "      <td>US/California</td>\n",
       "      <td>https://www.juvo.com/careers</td>\n",
       "      <td>At HQ (as listed above)</td>\n",
       "    </tr>\n",
       "    <tr>\n",
       "      <th>3</th>\n",
       "      <td>Hackerone</td>\n",
       "      <td>US/California</td>\n",
       "      <td>https://www.hackerone.com/careers</td>\n",
       "      <td>At HQ (as listed above)</td>\n",
       "    </tr>\n",
       "    <tr>\n",
       "      <th>4</th>\n",
       "      <td>Masterclass</td>\n",
       "      <td>US/California</td>\n",
       "      <td>https://careers.masterclass.com/index.html</td>\n",
       "      <td>At HQ (as listed above)</td>\n",
       "    </tr>\n",
       "    <tr>\n",
       "      <th>...</th>\n",
       "      <td>...</td>\n",
       "      <td>...</td>\n",
       "      <td>...</td>\n",
       "      <td>...</td>\n",
       "    </tr>\n",
       "    <tr>\n",
       "      <th>323</th>\n",
       "      <td>Stel Life Inc.</td>\n",
       "      <td>US/Pennsylvania</td>\n",
       "      <td>NaN</td>\n",
       "      <td>At HQ (as listed above), Can be remote if nece...</td>\n",
       "    </tr>\n",
       "    <tr>\n",
       "      <th>324</th>\n",
       "      <td>Freedom Financial Network</td>\n",
       "      <td>US/California</td>\n",
       "      <td>https://jobs.freedomfinancialnetwork.com/jobs</td>\n",
       "      <td>At HQ (as listed above)</td>\n",
       "    </tr>\n",
       "    <tr>\n",
       "      <th>325</th>\n",
       "      <td>DearDoc</td>\n",
       "      <td>US/New York</td>\n",
       "      <td>https://forms.gle/BJjDa99471smSCzH8</td>\n",
       "      <td>Remote (post COVID-19), At HQ (as listed above)</td>\n",
       "    </tr>\n",
       "    <tr>\n",
       "      <th>326</th>\n",
       "      <td>Casebook PBC</td>\n",
       "      <td>US/New York</td>\n",
       "      <td>https://www.casebook.net/jobs</td>\n",
       "      <td>Remote (post COVID-19), At HQ (as listed above)</td>\n",
       "    </tr>\n",
       "    <tr>\n",
       "      <th>327</th>\n",
       "      <td>Forethought</td>\n",
       "      <td>US/California</td>\n",
       "      <td>https://jobs.lever.co/forethought/</td>\n",
       "      <td>At HQ (as listed above)</td>\n",
       "    </tr>\n",
       "  </tbody>\n",
       "</table>\n",
       "<p>328 rows × 4 columns</p>\n",
       "</div>"
      ],
      "text/plain": [
       "                  Company Name      HQ Location  \\\n",
       "0                   TrueAccord    US/California   \n",
       "1                       PlayVS    US/California   \n",
       "2                         Juvo    US/California   \n",
       "3                    Hackerone    US/California   \n",
       "4                  Masterclass    US/California   \n",
       "..                         ...              ...   \n",
       "323             Stel Life Inc.  US/Pennsylvania   \n",
       "324  Freedom Financial Network    US/California   \n",
       "325                    DearDoc      US/New York   \n",
       "326               Casebook PBC      US/New York   \n",
       "327                Forethought    US/California   \n",
       "\n",
       "                              Link to Job Postings  \\\n",
       "0     https://www.trueaccord.com/about-us/careers/   \n",
       "1                   https://www.playvs.com/careers   \n",
       "2                     https://www.juvo.com/careers   \n",
       "3                https://www.hackerone.com/careers   \n",
       "4       https://careers.masterclass.com/index.html   \n",
       "..                                             ...   \n",
       "323                                            NaN   \n",
       "324  https://jobs.freedomfinancialnetwork.com/jobs   \n",
       "325            https://forms.gle/BJjDa99471smSCzH8   \n",
       "326                  https://www.casebook.net/jobs   \n",
       "327             https://jobs.lever.co/forethought/   \n",
       "\n",
       "          Where will roles be located? (post COVID-19)  \n",
       "0    Remote (post COVID-19), At HQ (as listed above...  \n",
       "1                              At HQ (as listed above)  \n",
       "2                              At HQ (as listed above)  \n",
       "3                              At HQ (as listed above)  \n",
       "4                              At HQ (as listed above)  \n",
       "..                                                 ...  \n",
       "323  At HQ (as listed above), Can be remote if nece...  \n",
       "324                            At HQ (as listed above)  \n",
       "325    Remote (post COVID-19), At HQ (as listed above)  \n",
       "326    Remote (post COVID-19), At HQ (as listed above)  \n",
       "327                            At HQ (as listed above)  \n",
       "\n",
       "[328 rows x 4 columns]"
      ]
     },
     "execution_count": 24,
     "metadata": {},
     "output_type": "execute_result"
    }
   ],
   "source": [
    "startup_df[['Company Name', 'HQ Location', 'Link to Job Postings', 'Where will roles be located? (post COVID-19)']]"
   ]
  },
  {
   "cell_type": "code",
   "execution_count": 229,
   "metadata": {},
   "outputs": [
    {
     "name": "stderr",
     "output_type": "stream",
     "text": [
      "/Library/Frameworks/Python.framework/Versions/3.7/lib/python3.7/site-packages/ipykernel_launcher.py:1: TqdmDeprecationWarning: This function will be removed in tqdm==5.0.0\n",
      "Please use `tqdm.notebook.tqdm` instead of `tqdm.tqdm_notebook`\n",
      "  \"\"\"Entry point for launching an IPython kernel.\n"
     ]
    },
    {
     "data": {
      "application/vnd.jupyter.widget-view+json": {
       "model_id": "bb61008b2d94465881b7547398d63ad1",
       "version_major": 2,
       "version_minor": 0
      },
      "text/plain": [
       "HBox(children=(FloatProgress(value=0.0, max=256.0), HTML(value='')))"
      ]
     },
     "metadata": {},
     "output_type": "display_data"
    },
    {
     "name": "stdout",
     "output_type": "stream",
     "text": [
      "\n"
     ]
    }
   ],
   "source": [
    "for company in tqdm(comp_list.loc[comp_list['Matched'] == False]['CompanyName']):\n",
    "    wait_time = random.randint(1,4)\n",
    "    search_string = company + ' + careers'\n",
    "    this_list = list(search(search_string, tld=\"com\", num=3, stop=3, pause=wait_time))\n",
    "    \n",
    "    comp_list.loc[comp_list['CompanyName'] == company, 'Careers Link 1'] = this_list[0]\n",
    "    comp_list.loc[comp_list['CompanyName'] == company, 'Careers Link 2'] = this_list[1]\n",
    "    comp_list.loc[comp_list['CompanyName'] == company, 'Careers Link 3'] = this_list[2]"
   ]
  },
  {
   "cell_type": "code",
   "execution_count": 197,
   "metadata": {},
   "outputs": [
    {
     "data": {
      "text/plain": [
       "(4897, 13)"
      ]
     },
     "execution_count": 197,
     "metadata": {},
     "output_type": "execute_result"
    }
   ],
   "source": [
    "companies.shape"
   ]
  },
  {
   "cell_type": "code",
   "execution_count": 195,
   "metadata": {},
   "outputs": [
    {
     "data": {
      "application/vnd.jupyter.widget-view+json": {
       "model_id": "0354602626e54bb48712a99bc27bc4d0",
       "version_major": 2,
       "version_minor": 0
      },
      "text/plain": [
       "Box(children=(Label(value='Pizza topping with a very long label:'), RadioButtons(layout=Layout(width='max-cont…"
      ]
     },
     "metadata": {},
     "output_type": "display_data"
    }
   ],
   "source": [
    "\n",
    "widgets.Box(\n",
    "    [\n",
    "        widgets.Label(value='Pizza topping with a very long label:'),\n",
    "        widgets.RadioButtons(\n",
    "            options=[\n",
    "                'pepperoni',\n",
    "                'pineapple',\n",
    "                'anchovies',\n",
    "                'and the long name that will fit fine and the long name that will fit fine and the long name that will fit fine '\n",
    "            ],\n",
    "            layout={'width': 'max-content'}\n",
    "        )\n",
    "    ]\n",
    ")"
   ]
  },
  {
   "cell_type": "code",
   "execution_count": null,
   "metadata": {},
   "outputs": [],
   "source": [
    "https://maps.googleapis.com/maps/api/place/findplacefromtext/json?input=Museum%20of%20Contemporary%20Art%20Australia&inputtype=textquery&fields=photos,formatted_address,name,rating,opening_hours,geometry&key=YOUR_API_KEY"
   ]
  },
  {
   "cell_type": "code",
   "execution_count": 159,
   "metadata": {},
   "outputs": [
    {
     "name": "stdout",
     "output_type": "stream",
     "text": [
      "Downloaded the tutorial in 41.4813 seconds\n"
     ]
    }
   ],
   "source": [
    "import time\n",
    "tic = time.perf_counter()\n",
    "subset['CompanyName'].apply(lambda x: get_careers_link(x))\n",
    "toc = time.perf_counter()\n",
    "print(f\"Downloaded the tutorial in {toc - tic:0.4f} seconds\")"
   ]
  },
  {
   "cell_type": "code",
   "execution_count": 161,
   "metadata": {},
   "outputs": [
    {
     "name": "stdout",
     "output_type": "stream",
     "text": [
      "Downloaded the tutorial in 39.2813 seconds\n"
     ]
    }
   ],
   "source": [
    "import time\n",
    "tic = time.perf_counter()\n",
    "for query_string in subset['CompanyName']:\n",
    "    wait_time = 3\n",
    "    search_string = company + ' + careers'\n",
    "    this_list = list(search(query_string, tld=\"com\",\n",
    "                            num=3, stop=3, pause=wait_time))\n",
    "#     print(this_list[0])\n",
    "toc = time.perf_counter()\n",
    "print(f\"Downloaded the tutorial in {toc - tic:0.4f} seconds\")"
   ]
  },
  {
   "cell_type": "code",
   "execution_count": 104,
   "metadata": {},
   "outputs": [],
   "source": [
    "from pygeocoder import Geocoder"
   ]
  },
  {
   "cell_type": "code",
   "execution_count": 141,
   "metadata": {},
   "outputs": [
    {
     "name": "stdout",
     "output_type": "stream",
     "text": [
      "1 Infinite Loop\n"
     ]
    }
   ],
   "source": [
    "import requests\n",
    "from bs4 import BeautifulSoup\n",
    "\n",
    "company = 'apple'\n",
    "\n",
    "url = 'http://www.corporate-office-headquarters.com/search-static?term={c}&page=1&rows=200'.format(c=company)\n",
    "\n",
    "r = requests.get(url)\n",
    "\n",
    "soup = BeautifulSoup(r.text, 'html.parser')\n",
    "\n",
    "endpoint = soup.find('a', href=True, attrs={'class': \"match-result-anchor\"})['href']\n",
    "\n",
    "url = 'http://www.corporate-office-headquarters.com/{ep}'.format(ep=endpoint)\n",
    "\n",
    "r = requests.get(url)\n",
    "\n",
    "soup = BeautifulSoup(r.text, 'html.parser')\n",
    "\n",
    "HQ_address = ''\n",
    "# for i in soup.find_all('dd'):\n",
    "#     print(i)\n",
    "\n",
    "print(soup.find_all('dd')[2].text)\n",
    "\n",
    "# print(HQ_address.text) "
   ]
  },
  {
   "cell_type": "code",
   "execution_count": 128,
   "metadata": {},
   "outputs": [
    {
     "name": "stdout",
     "output_type": "stream",
     "text": [
      "1600 Amphitheatre Pkwy, Mountain View, CA 94043, USA\n"
     ]
    }
   ],
   "source": [
    "print(results[0])"
   ]
  },
  {
   "cell_type": "code",
   "execution_count": 125,
   "metadata": {},
   "outputs": [],
   "source": [
    "bay_area_city = ['Alameda', 'Albany','American Canyon','Antioch', 'Atherton', 'Belmont', 'Belvedere',\n",
    "                 'Benicia', 'Berkeley', 'Brentwood',\n",
    "                'Brisbane',\n",
    "                'Burlingame','Calistoga', 'Campbell','Clayton',\n",
    "                'Cloverdale', 'Colma', 'Concord',\n",
    "                 'Corte Madera', 'Cotati',\n",
    "                 'Cupertino',\n",
    "                 'Daly City', 'Danville', 'Dixon',\n",
    "                 'Dublin',\n",
    "                 'East Palo Alto',\n",
    "                 'El Cerrito',\n",
    "                 'Emeryville',\n",
    "                 'Fairfax',\n",
    "                 'Fairfield',\n",
    "                 'Foster City',\n",
    "                 'Fremont',\n",
    "                 'Gilroy',\n",
    "                 'Half Moon Bay',\n",
    "                 'Hayward',\n",
    "                 'Healdsburg',\n",
    "                 'Hercules',\n",
    "                 'Hillsborough',\n",
    "                 'Lafayette',\n",
    "                 'Larkspur',\n",
    "                 'Livermore',\n",
    "                 'Los Altos',\n",
    "                 'Los Altos Hills',\n",
    "                 'Los Gatos',\n",
    "                 'Martinez',\n",
    "                 'Menlo Park',\n",
    "                 'Mill Valley',\n",
    "                 'Millbrae',\n",
    "                 'Milpitas',\n",
    "                 'Monte Sereno',\n",
    "                 'Moraga',\n",
    "                 'Morgan Hill',\n",
    "                 'Mountain View',\n",
    "                 'Napa',\n",
    "                 'Newark',\n",
    "                 'Novato',\n",
    "                 'Oakland',\n",
    "                 'Oakley',\n",
    "                 'Orinda', 'Pacifica', 'Palo Alto', 'Petaluma', 'Piedmont',\n",
    "                 'Pinole', 'Pittsburg', 'Pleasant Hill', 'Pleasanton',\n",
    "                 'Portola Valley', 'Redwood City', 'Richmond', 'Rio Vista', 'Rohnert Park', 'Ross', 'St. Helena',\n",
    "                 'San Anselmo', 'San Bruno', 'San Carlos', 'San Francisco', 'San Jose', 'San Leandro', 'San Mateo',\n",
    "                 'San Pablo', 'San Rafael', 'San Ramon', 'Santa Clara', 'Santa Rosa', 'Saratoga', 'Sausalito',\n",
    "                 'Sebastopol', 'Sonoma', 'South San Francisco', 'Suisun City', 'Sunnyvale', 'Tiburon', 'Union City',\n",
    "                 'Vacaville', 'Vallejo', 'Walnut Creek', 'Windsor', 'Woodside', 'Yountville']"
   ]
  },
  {
   "cell_type": "code",
   "execution_count": 138,
   "metadata": {},
   "outputs": [],
   "source": [
    "new_list = bay_area_companies[['EMPLOYER']]"
   ]
  },
  {
   "cell_type": "code",
   "execution_count": 7,
   "metadata": {},
   "outputs": [
    {
     "data": {
      "text/html": [
       "<div>\n",
       "<style scoped>\n",
       "    .dataframe tbody tr th:only-of-type {\n",
       "        vertical-align: middle;\n",
       "    }\n",
       "\n",
       "    .dataframe tbody tr th {\n",
       "        vertical-align: top;\n",
       "    }\n",
       "\n",
       "    .dataframe thead th {\n",
       "        text-align: right;\n",
       "    }\n",
       "</style>\n",
       "<table border=\"1\" class=\"dataframe\">\n",
       "  <thead>\n",
       "    <tr style=\"text-align: right;\">\n",
       "      <th></th>\n",
       "      <th>Unnamed: 0</th>\n",
       "      <th>Fiscal Year</th>\n",
       "      <th>Employer</th>\n",
       "      <th>Initial Approvals</th>\n",
       "      <th>Initial Denials</th>\n",
       "      <th>Continuing Approvals</th>\n",
       "      <th>Continuing Denials</th>\n",
       "      <th>Total Application</th>\n",
       "      <th>NAICS</th>\n",
       "      <th>Tax ID</th>\n",
       "      <th>HQ State</th>\n",
       "      <th>City</th>\n",
       "      <th>ZIP</th>\n",
       "      <th>HQ or Office in N CA</th>\n",
       "      <th>Post on LinkedIn</th>\n",
       "      <th>Unnamed: 15</th>\n",
       "      <th>Unnamed: 16</th>\n",
       "      <th>URL</th>\n",
       "    </tr>\n",
       "  </thead>\n",
       "  <tbody>\n",
       "    <tr>\n",
       "      <th>0</th>\n",
       "      <td>22494</td>\n",
       "      <td>2019</td>\n",
       "      <td>AMAZON.COM SERVICES INC</td>\n",
       "      <td>606</td>\n",
       "      <td>27</td>\n",
       "      <td>124</td>\n",
       "      <td>27</td>\n",
       "      <td>784</td>\n",
       "      <td>45</td>\n",
       "      <td>4687</td>\n",
       "      <td>WA</td>\n",
       "      <td>SEATTLE</td>\n",
       "      <td>98121</td>\n",
       "      <td>1</td>\n",
       "      <td>1</td>\n",
       "      <td>NaN</td>\n",
       "      <td>NaN</td>\n",
       "      <td>NaN</td>\n",
       "    </tr>\n",
       "    <tr>\n",
       "      <th>1</th>\n",
       "      <td>22476</td>\n",
       "      <td>2019</td>\n",
       "      <td>GOOGLE LLC</td>\n",
       "      <td>512</td>\n",
       "      <td>16</td>\n",
       "      <td>240</td>\n",
       "      <td>10</td>\n",
       "      <td>778</td>\n",
       "      <td>54</td>\n",
       "      <td>3581</td>\n",
       "      <td>CA</td>\n",
       "      <td>MOUNTAIN VIEW</td>\n",
       "      <td>94043</td>\n",
       "      <td>1</td>\n",
       "      <td>1</td>\n",
       "      <td>NaN</td>\n",
       "      <td>NaN</td>\n",
       "      <td>NaN</td>\n",
       "    </tr>\n",
       "    <tr>\n",
       "      <th>2</th>\n",
       "      <td>22472</td>\n",
       "      <td>2019</td>\n",
       "      <td>TECH MAHINDRA AMERICAS INC</td>\n",
       "      <td>475</td>\n",
       "      <td>440</td>\n",
       "      <td>540</td>\n",
       "      <td>78</td>\n",
       "      <td>1533</td>\n",
       "      <td>54</td>\n",
       "      <td>2696</td>\n",
       "      <td>NJ</td>\n",
       "      <td>SOUTH PLAINFIELD</td>\n",
       "      <td>7080</td>\n",
       "      <td>1</td>\n",
       "      <td>1</td>\n",
       "      <td>NaN</td>\n",
       "      <td>NaN</td>\n",
       "      <td>NaN</td>\n",
       "    </tr>\n",
       "    <tr>\n",
       "      <th>3</th>\n",
       "      <td>22468</td>\n",
       "      <td>2019</td>\n",
       "      <td>MICROSOFT CORPORATION</td>\n",
       "      <td>364</td>\n",
       "      <td>54</td>\n",
       "      <td>485</td>\n",
       "      <td>15</td>\n",
       "      <td>918</td>\n",
       "      <td>51</td>\n",
       "      <td>4442</td>\n",
       "      <td>WA</td>\n",
       "      <td>REDMOND</td>\n",
       "      <td>98052</td>\n",
       "      <td>1</td>\n",
       "      <td>1</td>\n",
       "      <td>NaN</td>\n",
       "      <td>NaN</td>\n",
       "      <td>NaN</td>\n",
       "    </tr>\n",
       "    <tr>\n",
       "      <th>4</th>\n",
       "      <td>22225</td>\n",
       "      <td>2019</td>\n",
       "      <td>LARSEN AND TOUBRO INFOTECH LTD</td>\n",
       "      <td>317</td>\n",
       "      <td>83</td>\n",
       "      <td>417</td>\n",
       "      <td>55</td>\n",
       "      <td>872</td>\n",
       "      <td>54</td>\n",
       "      <td>4303</td>\n",
       "      <td>NJ</td>\n",
       "      <td>EDISON</td>\n",
       "      <td>8817</td>\n",
       "      <td>1</td>\n",
       "      <td>1</td>\n",
       "      <td>NaN</td>\n",
       "      <td>NaN</td>\n",
       "      <td>NaN</td>\n",
       "    </tr>\n",
       "  </tbody>\n",
       "</table>\n",
       "</div>"
      ],
      "text/plain": [
       "   Unnamed: 0  Fiscal Year                        Employer  Initial Approvals  \\\n",
       "0       22494         2019         AMAZON.COM SERVICES INC                606   \n",
       "1       22476         2019                      GOOGLE LLC                512   \n",
       "2       22472         2019      TECH MAHINDRA AMERICAS INC                475   \n",
       "3       22468         2019           MICROSOFT CORPORATION                364   \n",
       "4       22225         2019  LARSEN AND TOUBRO INFOTECH LTD                317   \n",
       "\n",
       "   Initial Denials  Continuing Approvals  Continuing Denials  \\\n",
       "0               27                   124                  27   \n",
       "1               16                   240                  10   \n",
       "2              440                   540                  78   \n",
       "3               54                   485                  15   \n",
       "4               83                   417                  55   \n",
       "\n",
       "   Total Application  NAICS  Tax ID HQ State              City    ZIP  \\\n",
       "0                784     45    4687       WA           SEATTLE  98121   \n",
       "1                778     54    3581       CA     MOUNTAIN VIEW  94043   \n",
       "2               1533     54    2696       NJ  SOUTH PLAINFIELD   7080   \n",
       "3                918     51    4442       WA           REDMOND  98052   \n",
       "4                872     54    4303       NJ            EDISON   8817   \n",
       "\n",
       "   HQ or Office in N CA  Post on LinkedIn  Unnamed: 15  Unnamed: 16  URL  \n",
       "0                     1                 1          NaN          NaN  NaN  \n",
       "1                     1                 1          NaN          NaN  NaN  \n",
       "2                     1                 1          NaN          NaN  NaN  \n",
       "3                     1                 1          NaN          NaN  NaN  \n",
       "4                     1                 1          NaN          NaN  NaN  "
      ]
     },
     "execution_count": 7,
     "metadata": {},
     "output_type": "execute_result"
    }
   ],
   "source": [
    "companies['Employer']"
   ]
  },
  {
   "cell_type": "code",
   "execution_count": 6,
   "metadata": {},
   "outputs": [],
   "source": [
    "import warnings\n",
    "warnings.filterwarnings('ignore')\n",
    "import random"
   ]
  },
  {
   "cell_type": "code",
   "execution_count": 8,
   "metadata": {},
   "outputs": [
    {
     "data": {
      "application/vnd.jupyter.widget-view+json": {
       "model_id": "95140020ac254576b332d599bbc68ac2",
       "version_major": 2,
       "version_minor": 0
      },
      "text/plain": [
       "HBox(children=(FloatProgress(value=0.0, max=522.0), HTML(value='')))"
      ]
     },
     "metadata": {},
     "output_type": "display_data"
    },
    {
     "name": "stdout",
     "output_type": "stream",
     "text": [
      "\n"
     ]
    }
   ],
   "source": [
    "for company in tqdm(companies['Employer']):\n",
    "    wait_time = random.randint(1,4)\n",
    "    search_string = company + ' + careers'\n",
    "    this_list = list(search(search_string, tld=\"com\", num=3, stop=3, pause=wait_time))\n",
    "    \n",
    "    companies.loc[companies['Employer'] == company, 'Careers Link 1'] = this_list[0]\n",
    "    companies.loc[companies['Employer'] == company, 'Careers Link 2'] = this_list[1]\n",
    "    companies.loc[companies['Employer'] == company, 'Careers Link 3'] = this_list[2]"
   ]
  },
  {
   "cell_type": "code",
   "execution_count": 224,
   "metadata": {},
   "outputs": [],
   "source": [
    "companies.to_csv('./H1B2019.csv', index=False)"
   ]
  },
  {
   "cell_type": "code",
   "execution_count": 152,
   "metadata": {},
   "outputs": [],
   "source": [
    "new_list.to_csv('./bay_area_companies.csv')"
   ]
  },
  {
   "cell_type": "code",
   "execution_count": 158,
   "metadata": {},
   "outputs": [],
   "source": [
    "new_list.loc[132,'test']= 'this new value'"
   ]
  },
  {
   "cell_type": "code",
   "execution_count": 200,
   "metadata": {},
   "outputs": [
    {
     "data": {
      "text/plain": [
       "(522, 25)"
      ]
     },
     "execution_count": 200,
     "metadata": {},
     "output_type": "execute_result"
    }
   ],
   "source": [
    "companies.shape"
   ]
  },
  {
   "cell_type": "code",
   "execution_count": 231,
   "metadata": {},
   "outputs": [
    {
     "name": "stderr",
     "output_type": "stream",
     "text": [
      "/Library/Frameworks/Python.framework/Versions/3.7/lib/python3.7/site-packages/pandas/core/indexing.py:670: SettingWithCopyWarning: \n",
      "A value is trying to be set on a copy of a slice from a DataFrame\n",
      "\n",
      "See the caveats in the documentation: https://pandas.pydata.org/pandas-docs/stable/user_guide/indexing.html#returning-a-view-versus-a-copy\n",
      "  self._setitem_with_indexer(indexer, value)\n",
      "/Library/Frameworks/Python.framework/Versions/3.7/lib/python3.7/site-packages/ipykernel_launcher.py:1: SettingWithCopyWarning: \n",
      "A value is trying to be set on a copy of a slice from a DataFrame\n",
      "\n",
      "See the caveats in the documentation: https://pandas.pydata.org/pandas-docs/stable/user_guide/indexing.html#returning-a-view-versus-a-copy\n",
      "  \"\"\"Entry point for launching an IPython kernel.\n",
      "/Library/Frameworks/Python.framework/Versions/3.7/lib/python3.7/site-packages/ipykernel_launcher.py:2: SettingWithCopyWarning: \n",
      "A value is trying to be set on a copy of a slice from a DataFrame\n",
      "\n",
      "See the caveats in the documentation: https://pandas.pydata.org/pandas-docs/stable/user_guide/indexing.html#returning-a-view-versus-a-copy\n",
      "  \n",
      "/Library/Frameworks/Python.framework/Versions/3.7/lib/python3.7/site-packages/ipykernel_launcher.py:3: SettingWithCopyWarning: \n",
      "A value is trying to be set on a copy of a slice from a DataFrame\n",
      "\n",
      "See the caveats in the documentation: https://pandas.pydata.org/pandas-docs/stable/user_guide/indexing.html#returning-a-view-versus-a-copy\n",
      "  This is separate from the ipykernel package so we can avoid doing imports until\n",
      "/Library/Frameworks/Python.framework/Versions/3.7/lib/python3.7/site-packages/ipykernel_launcher.py:4: SettingWithCopyWarning: \n",
      "A value is trying to be set on a copy of a slice from a DataFrame\n",
      "\n",
      "See the caveats in the documentation: https://pandas.pydata.org/pandas-docs/stable/user_guide/indexing.html#returning-a-view-versus-a-copy\n",
      "  after removing the cwd from sys.path.\n",
      "/Library/Frameworks/Python.framework/Versions/3.7/lib/python3.7/site-packages/ipykernel_launcher.py:5: SettingWithCopyWarning: \n",
      "A value is trying to be set on a copy of a slice from a DataFrame\n",
      "\n",
      "See the caveats in the documentation: https://pandas.pydata.org/pandas-docs/stable/user_guide/indexing.html#returning-a-view-versus-a-copy\n",
      "  \"\"\"\n",
      "/Library/Frameworks/Python.framework/Versions/3.7/lib/python3.7/site-packages/ipykernel_launcher.py:6: SettingWithCopyWarning: \n",
      "A value is trying to be set on a copy of a slice from a DataFrame\n",
      "\n",
      "See the caveats in the documentation: https://pandas.pydata.org/pandas-docs/stable/user_guide/indexing.html#returning-a-view-versus-a-copy\n",
      "  \n"
     ]
    }
   ],
   "source": [
    "sub_comp_list.loc[sub_comp_list['Careers Link 1'].str.contains('indeed'), 'Careers Link 1'] = ''\n",
    "sub_comp_list.loc[sub_comp_list['Careers Link 1'].str.contains('glassdoor'), 'Careers Link 1'] = ''\n",
    "sub_comp_list.loc[sub_comp_list['Careers Link 2'].str.contains('indeed'), 'Careers Link 2'] = ''\n",
    "sub_comp_list.loc[sub_comp_list['Careers Link 2'].str.contains('glassdoor'), 'Careers Link 2'] = ''\n",
    "sub_comp_list.loc[sub_comp_list['Careers Link 3'].str.contains('indeed'), 'Careers Link 3'] = ''\n",
    "sub_comp_list.loc[sub_comp_list['Careers Link 3'].str.contains('glassdoor'), 'Careers Link 3'] = ''"
   ]
  },
  {
   "cell_type": "code",
   "execution_count": 233,
   "metadata": {},
   "outputs": [
    {
     "name": "stderr",
     "output_type": "stream",
     "text": [
      "/Library/Frameworks/Python.framework/Versions/3.7/lib/python3.7/site-packages/pandas/core/indexing.py:670: SettingWithCopyWarning: \n",
      "A value is trying to be set on a copy of a slice from a DataFrame\n",
      "\n",
      "See the caveats in the documentation: https://pandas.pydata.org/pandas-docs/stable/user_guide/indexing.html#returning-a-view-versus-a-copy\n",
      "  self._setitem_with_indexer(indexer, value)\n",
      "/Library/Frameworks/Python.framework/Versions/3.7/lib/python3.7/site-packages/ipykernel_launcher.py:2: SettingWithCopyWarning: \n",
      "A value is trying to be set on a copy of a slice from a DataFrame\n",
      "\n",
      "See the caveats in the documentation: https://pandas.pydata.org/pandas-docs/stable/user_guide/indexing.html#returning-a-view-versus-a-copy\n",
      "  \n",
      "/Library/Frameworks/Python.framework/Versions/3.7/lib/python3.7/site-packages/ipykernel_launcher.py:4: SettingWithCopyWarning: \n",
      "A value is trying to be set on a copy of a slice from a DataFrame\n",
      "\n",
      "See the caveats in the documentation: https://pandas.pydata.org/pandas-docs/stable/user_guide/indexing.html#returning-a-view-versus-a-copy\n",
      "  after removing the cwd from sys.path.\n"
     ]
    }
   ],
   "source": [
    "sub_comp_list.loc[(sub_comp_list['CompanyName'].str.contains('LINKEDIN') == False) & \n",
    "              (sub_comp_list['Careers Link 2'].str.contains('linkedin')), 'Careers Link 2'] = ''\n",
    "sub_comp_list.loc[(sub_comp_list['CompanyName'].str.contains('LINKEDIN') == False) & \n",
    "              (sub_comp_list['Careers Link 3'].str.contains('linkedin')), 'Careers Link 3'] = ''"
   ]
  },
  {
   "cell_type": "code",
   "execution_count": 234,
   "metadata": {},
   "outputs": [],
   "source": [
    "sub_comp_list.to_csv('./subcomplist.csv', index = False)"
   ]
  },
  {
   "cell_type": "code",
   "execution_count": 198,
   "metadata": {},
   "outputs": [
    {
     "name": "stdout",
     "output_type": "stream",
     "text": [
      "tensor([[0.7924, 0.2536, 0.2381],\n",
      "        [0.1356, 0.5010, 0.1841],\n",
      "        [0.3901, 0.1926, 0.0955],\n",
      "        [0.9364, 0.4586, 0.9101],\n",
      "        [0.1144, 0.9713, 0.1289]])\n"
     ]
    }
   ],
   "source": [
    "from __future__ import print_function\n",
    "import torch\n",
    "x = torch.rand(5, 3)\n",
    "print(x)"
   ]
  },
  {
   "cell_type": "code",
   "execution_count": 25,
   "metadata": {},
   "outputs": [
    {
     "name": "stdout",
     "output_type": "stream",
     "text": [
      "https://stripe.com/jobs\n",
      "https://stripe.com/jobs/search\n",
      "https://stripe.com/jobs/university\n"
     ]
    }
   ],
   "source": [
    "for i in search('stripe analyst open position', tld=\"com\", num=3, stop=3, pause=2):\n",
    "    print(i)"
   ]
  }
 ],
 "metadata": {
  "kernelspec": {
   "display_name": "Python 3",
   "language": "python",
   "name": "python3"
  },
  "language_info": {
   "codemirror_mode": {
    "name": "ipython",
    "version": 3
   },
   "file_extension": ".py",
   "mimetype": "text/x-python",
   "name": "python",
   "nbconvert_exporter": "python",
   "pygments_lexer": "ipython3",
   "version": "3.7.2"
  },
  "toc": {
   "base_numbering": 1,
   "nav_menu": {},
   "number_sections": true,
   "sideBar": true,
   "skip_h1_title": false,
   "title_cell": "Table of Contents",
   "title_sidebar": "Contents",
   "toc_cell": false,
   "toc_position": {},
   "toc_section_display": true,
   "toc_window_display": false
  },
  "varInspector": {
   "cols": {
    "lenName": 16,
    "lenType": 16,
    "lenVar": 40
   },
   "kernels_config": {
    "python": {
     "delete_cmd_postfix": "",
     "delete_cmd_prefix": "del ",
     "library": "var_list.py",
     "varRefreshCmd": "print(var_dic_list())"
    },
    "r": {
     "delete_cmd_postfix": ") ",
     "delete_cmd_prefix": "rm(",
     "library": "var_list.r",
     "varRefreshCmd": "cat(var_dic_list()) "
    }
   },
   "oldHeight": 292,
   "position": {
    "height": "40px",
    "left": "1170px",
    "right": "20px",
    "top": "120px",
    "width": "250px"
   },
   "types_to_exclude": [
    "module",
    "function",
    "builtin_function_or_method",
    "instance",
    "_Feature"
   ],
   "varInspector_section_display": "none",
   "window_display": true
  }
 },
 "nbformat": 4,
 "nbformat_minor": 2
}
